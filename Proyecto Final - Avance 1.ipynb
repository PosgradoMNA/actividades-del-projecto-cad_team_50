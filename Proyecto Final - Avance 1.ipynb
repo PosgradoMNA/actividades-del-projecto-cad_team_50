{
 "cells": [
  {
   "cell_type": "markdown",
   "id": "ecc6484d",
   "metadata": {},
   "source": [
    "Proyecto final - Avance 1\n"
   ]
  },
  {
   "cell_type": "markdown",
   "id": "cb01f890",
   "metadata": {},
   "source": [
    "Nombre del conjunto de datos: Walmart Sales Dataset of 45 stores"
   ]
  },
  {
   "cell_type": "markdown",
   "id": "bd47956b",
   "metadata": {},
   "source": [
    "Organización : Se encuentra en la página de Kaggle, la organización de los datos es Walmart."
   ]
  },
  {
   "cell_type": "markdown",
   "id": "291c3441",
   "metadata": {},
   "source": [
    "Enlace de descarga : https://www.kaggle.com/datasets/varsharam/walmart-sales-dataset-of-45stores"
   ]
  },
  {
   "cell_type": "markdown",
   "id": "5db74a35",
   "metadata": {},
   "source": [
    "Contenido: El conjunto de datos posee 6435 registros, los cuales poseen 8 campos o columnas, la tabla contiene las ventas semanales de 45 tiendas de Walmart abarcando el tiempo de 5 de febrero del 2010 al 26 de octubre del 2012. Por otra parte se incliyen factores como días festivos, temperatura, precio del combustible, IPC y desempleo."
   ]
  },
  {
   "cell_type": "markdown",
   "id": "7ec2ab28",
   "metadata": {},
   "source": [
    "Preguntas para el set de datos (Dataset):\n",
    "1. ¿Cuál es el comportamiento historico de las 45 tiendas realizando una suma total de todas?\n",
    "2. ¿Cuál es el top 5 de las tiendas que más venden en promedio en este tiempo?\n",
    "3. ¿Cuál es el top 5 de las tiendas que menos venden en promedio en este tiempo?\n",
    "4. ¿Cuál es el mes que en promedio semanal más se vende?\n",
    "5. ¿Existe una correlación entre el indicador de precio del consumidor con las ventas de Walmart?\n",
    "6. ¿Existe una correlación entre el precio del combustible con las ventas de Walmart?\n",
    "7. ¿Existe una correlación entre la temperatura con las ventas de Walmart?\n",
    "8. ¿Existe una correlación entre el desempleo con las ventas de Walmart?\n",
    "9. ¿Cómo es la variabilidad entre las ventas semanales de cada tienda ? ¿Desviación estandar y coeficiente de variación?"
   ]
  },
  {
   "cell_type": "markdown",
   "id": "7b4ee6b4",
   "metadata": {},
   "source": [
    "Actores interesados: \n",
    "- Walmart\n",
    "- Empresas de la industria retail para entender el comportamiento del cliente y de las ventas en esta industria\n",
    "- Estudiantes de mercadeo y ventas\n",
    "- Nosotros como analistas de datos para entender los ejercicios academicos de este curso y los futuros ejercicios laborales."
   ]
  }
 ],
 "metadata": {
  "kernelspec": {
   "display_name": "Python 3",
   "language": "python",
   "name": "python3"
  },
  "language_info": {
   "codemirror_mode": {
    "name": "ipython",
    "version": 3
   },
   "file_extension": ".py",
   "mimetype": "text/x-python",
   "name": "python",
   "nbconvert_exporter": "python",
   "pygments_lexer": "ipython3",
   "version": "3.9.1"
  }
 },
 "nbformat": 4,
 "nbformat_minor": 5
}
